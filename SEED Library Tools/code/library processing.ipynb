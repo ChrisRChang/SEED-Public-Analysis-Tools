{
 "cells": [
  {
   "cell_type": "markdown",
   "source": [
    "Expected workflow:<br>\n",
    "1.) Import library matrix/constant regions\n",
    "2.)"
   ],
   "metadata": {
    "collapsed": false,
    "pycharm": {
     "name": "#%% md\n"
    }
   }
  },
  {
   "cell_type": "code",
   "execution_count": 36,
   "outputs": [],
   "source": [
    "import pandas as pd\n",
    "from Bio import SeqIO\n",
    "\n",
    "import cfg"
   ],
   "metadata": {
    "collapsed": false,
    "pycharm": {
     "name": "#%%\n"
    }
   }
  },
  {
   "cell_type": "code",
   "execution_count": 37,
   "outputs": [],
   "source": [
    "CONDITION_INFO = pd.read_csv(cfg.DATA_DIR + 'condition_info.csv')"
   ],
   "metadata": {
    "collapsed": false,
    "pycharm": {
     "name": "#%%\n"
    }
   }
  },
  {
   "cell_type": "code",
   "source": [
    "def import_pool_from_fasta(fasta_fn, upstream_constant, downstream_constant):\n",
    "    \"\"\"\n",
    "\n",
    "    :return: set of unique trimmed unique sequences from a library of tiles\n",
    "    \"\"\"\n",
    "\n",
    "    library_sequences = set() #Unique members in library\n",
    "    count = 0 #Count of fasta sequences in input file\n",
    "\n",
    "    for member in SeqIO.parse(cfg.OLIGO_DIR+fasta_fn, 'fasta'):\n",
    "        count += 1\n",
    "\n",
    "        if upstream_constant is not None and downstream_constant is not None:\n",
    "            upstream_constant_len = len(upstream_constant) #Length of upstream sequence (used for splicing)\n",
    "            upstream_constant_i = member.seq.find(upstream_constant) #Find position of upstream constant region\n",
    "            downstream_constant_i = member.seq.find(downstream_constant) #Find position of downstream constant region\n",
    "\n",
    "            member = member.seq[upstream_constant_i+upstream_constant_len:downstream_constant_i] #Remove constant regions from sequence\n",
    "\n",
    "        library_sequences.add(str(member)) #Add trimmed sequence to library\\\\ processing.ipynb\n",
    "\n",
    "    if len(library_sequences) != count: #Check to make sure all inputs are unique\n",
    "        print('Warning: Redundant sequences detected!')\n",
    "\n",
    "    return library_sequences\n",
    "\n",
    "\n",
    "TRBC_G102NNN_POOL = import_pool_from_fasta('G102.fasta', 'TGAAGGCTCGCCAGGTCTCACCAGTTT', 'ATTCAGAGACCAACGCCAGGG')\n",
    "TRBC_D112NNN_POOL = import_pool_from_fasta('D112.fasta', 'TGAAGGCTCGCCAGGTCTCACCAGTTT', 'ATTCAGAGACCAACGCCAGGG')\n",
    "TRBC_P116NNN_POOL = import_pool_from_fasta('P116.fasta', 'TGAAGGCTCGCCAGGTCTCACCAGTTT', 'ATTCAGAGACCAACGCCAGGG')"
   ],
   "metadata": {
    "collapsed": false,
    "pycharm": {
     "name": "#%%\n"
    }
   },
   "execution_count": 38,
   "outputs": []
  },
  {
   "cell_type": "code",
   "execution_count": 39,
   "outputs": [],
   "source": [
    "def trim_reads(library, condition, direction):\n",
    "    \"\"\"\n",
    "\n",
    "    :param direction:\n",
    "    :return:\n",
    "    \"\"\"\n",
    "\n",
    "    trimmed_count = 0\n",
    "    no_constants_count = 0 #Number of sequences with no constant regions\n",
    "    ambiguous_count = 0 #Number of sequences with constant regions and uncalled bases\n",
    "    counts_dict = {} #Dictionary of counts\n",
    "\n",
    "    upstream_constant_len = len(cfg.LIBRARY_CONSTANT_U)\n",
    "\n",
    "    print(cfg.SEQ_DIR + library + '/' + condition + 'R2_001.fastq')\n",
    "\n",
    "    for read in SeqIO.parse(cfg.SEQ_DIR + library + '/' + condition + '_R2_001.fastq', 'fastq'):\n",
    "        if direction == 'R': #Reverse complement sequences if looking at R2\n",
    "            read = read.seq.reverse_complement()\n",
    "\n",
    "        upstream_constant_i = read.find(cfg.LIBRARY_CONSTANT_U) #Find position of upstream constant region\n",
    "        downstream_constant_i = read.find(cfg.LIBRARY_CONSTANT_D) #Find position of downstream constant region\n",
    "\n",
    "        if (upstream_constant_i == -1) or (downstream_constant_i == -1): #Check for constant regions\n",
    "            no_constants_count += 1\n",
    "            continue #Skip to next read if no constant regions found\n",
    "\n",
    "        read = read[upstream_constant_i+upstream_constant_len:downstream_constant_i] #Trim read\n",
    "\n",
    "        if read.find('N') != -1: #Check for uncalled bases in sequence\n",
    "            ambiguous_count += 1\n",
    "            continue #Skip to next read if uncalled bases found\n",
    "\n",
    "        trimmed_count += 1\n",
    "\n",
    "        if read in counts_dict.keys(): #Update trimmed sequence dictionary\n",
    "            counts_dict[read] = counts_dict[read] + 1\n",
    "        else:\n",
    "            counts_dict[read] = 1\n",
    "\n",
    "    print(\n",
    "        '\\nTRIMMING COMPLETE\\n'\n",
    "        'Processed reads: '+str(no_constants_count+ambiguous_count+trimmed_count)+'\\n'\n",
    "        'Reads with no constant regions: '+str(no_constants_count)+'\\n'\n",
    "        'Trimmed reads with uncalled base pairs: '+str(ambiguous_count)+'\\n'\n",
    "        'Trimmed reads with no errors: '+str(trimmed_count)+'\\n'\n",
    "        '% trimmed: '+str((trimmed_count/(trimmed_count+ ambiguous_count+no_constants_count)*100))\n",
    "    )\n",
    "\n",
    "    return counts_dict"
   ],
   "metadata": {
    "collapsed": false,
    "pycharm": {
     "name": "#%%\n"
    }
   }
  },
  {
   "cell_type": "code",
   "execution_count": 40,
   "outputs": [],
   "source": [
    "def map_reads(counts_dict, library_seqs):\n",
    "    \"\"\"\n",
    "\n",
    "    :param counts_dict:\n",
    "    :param library_seqs:\n",
    "    :return:\n",
    "    \"\"\"\n",
    "\n",
    "    unmapped_read_count = 0 #Number of reads that do not map to library members\n",
    "    mapped_read_count = 0 #Number of reads that mapped to library members\n",
    "    mapped_reads = {} #Dictionary of sequences with corresponding read counts\n",
    "\n",
    "    for sequence in counts_dict.keys(): #Iterate through trimmed sequence counts\n",
    "        if sequence not in library_seqs: #Check if trimmed sequence is not in library\n",
    "            unmapped_read_count += counts_dict[sequence]\n",
    "\n",
    "        else:\n",
    "            mapped_read_count += counts_dict[sequence]\n",
    "            mapped_reads[str(sequence)] = counts_dict[sequence]\n",
    "\n",
    "    print(\n",
    "        '\\nMAPPING COMPLETE\\n'\n",
    "        'Reads mapped: '+str(mapped_read_count)+'\\n'\n",
    "        'Reads unmapped: '+str(unmapped_read_count)+'\\n'\n",
    "        '% mapped: '+str((mapped_read_count/(mapped_read_count+ unmapped_read_count)*100))\n",
    "    )\n",
    "\n",
    "    return mapped_reads\n",
    "\n"
   ],
   "metadata": {
    "collapsed": false,
    "pycharm": {
     "name": "#%%\n"
    }
   }
  },
  {
   "cell_type": "code",
   "execution_count": 41,
   "outputs": [
    {
     "name": "stdout",
     "output_type": "stream",
     "text": [
      "../data/sequencing/D112/112-HighR2_001.fastq\n",
      "\n",
      "TRIMMING COMPLETE\n",
      "Processed reads: 46221\n",
      "Reads with no constant regions: 8424\n",
      "Trimmed reads with uncalled base pairs: 0\n",
      "Trimmed reads with no errors: 37797\n",
      "% trimmed: 81.77451807619913\n",
      "\n",
      "MAPPING COMPLETE\n",
      "Reads mapped: 34800\n",
      "Reads unmapped: 2997\n",
      "% mapped: 92.07079926978332\n",
      "../data/sequencing/D112/112-LowR2_001.fastq\n",
      "\n",
      "TRIMMING COMPLETE\n",
      "Processed reads: 91850\n",
      "Reads with no constant regions: 21798\n",
      "Trimmed reads with uncalled base pairs: 1\n",
      "Trimmed reads with no errors: 70051\n",
      "% trimmed: 76.26673924877517\n",
      "\n",
      "MAPPING COMPLETE\n",
      "Reads mapped: 64823\n",
      "Reads unmapped: 5228\n",
      "% mapped: 92.5368659976303\n",
      "../data/sequencing/D112/112-USR2_001.fastq\n",
      "\n",
      "TRIMMING COMPLETE\n",
      "Processed reads: 90535\n",
      "Reads with no constant regions: 29052\n",
      "Trimmed reads with uncalled base pairs: 0\n",
      "Trimmed reads with no errors: 61483\n",
      "% trimmed: 67.91075274755619\n",
      "\n",
      "MAPPING COMPLETE\n",
      "Reads mapped: 56434\n",
      "Reads unmapped: 5049\n",
      "% mapped: 91.78797391148773\n",
      "../data/sequencing/G102/102-HighR2_001.fastq\n",
      "\n",
      "TRIMMING COMPLETE\n",
      "Processed reads: 367881\n",
      "Reads with no constant regions: 38151\n",
      "Trimmed reads with uncalled base pairs: 4\n",
      "Trimmed reads with no errors: 329726\n",
      "% trimmed: 89.62843963129382\n",
      "\n",
      "MAPPING COMPLETE\n",
      "Reads mapped: 301785\n",
      "Reads unmapped: 27941\n",
      "% mapped: 91.52599431042745\n",
      "../data/sequencing/G102/102-LowR2_001.fastq\n",
      "\n",
      "TRIMMING COMPLETE\n",
      "Processed reads: 391496\n",
      "Reads with no constant regions: 42199\n",
      "Trimmed reads with uncalled base pairs: 5\n",
      "Trimmed reads with no errors: 349292\n",
      "% trimmed: 89.21981322925394\n",
      "\n",
      "MAPPING COMPLETE\n",
      "Reads mapped: 313391\n",
      "Reads unmapped: 35901\n",
      "% mapped: 89.7217800579458\n",
      "../data/sequencing/G102/102-USR2_001.fastq\n",
      "\n",
      "TRIMMING COMPLETE\n",
      "Processed reads: 429260\n",
      "Reads with no constant regions: 44518\n",
      "Trimmed reads with uncalled base pairs: 10\n",
      "Trimmed reads with no errors: 384732\n",
      "% trimmed: 89.6267996086288\n",
      "\n",
      "MAPPING COMPLETE\n",
      "Reads mapped: 351611\n",
      "Reads unmapped: 33121\n",
      "% mapped: 91.39115020325838\n",
      "../data/sequencing/P116/116-HighR2_001.fastq\n",
      "\n",
      "TRIMMING COMPLETE\n",
      "Processed reads: 459847\n",
      "Reads with no constant regions: 111395\n",
      "Trimmed reads with uncalled base pairs: 9\n",
      "Trimmed reads with no errors: 348443\n",
      "% trimmed: 75.77368124615361\n",
      "\n",
      "MAPPING COMPLETE\n",
      "Reads mapped: 317747\n",
      "Reads unmapped: 30696\n",
      "% mapped: 91.190524705619\n",
      "../data/sequencing/P116/116-LowR2_001.fastq\n",
      "\n",
      "TRIMMING COMPLETE\n",
      "Processed reads: 434997\n",
      "Reads with no constant regions: 68320\n",
      "Trimmed reads with uncalled base pairs: 5\n",
      "Trimmed reads with no errors: 366672\n",
      "% trimmed: 84.29299512410431\n",
      "\n",
      "MAPPING COMPLETE\n",
      "Reads mapped: 331696\n",
      "Reads unmapped: 34976\n",
      "% mapped: 90.46122965484138\n",
      "../data/sequencing/P116/116-USR2_001.fastq\n",
      "\n",
      "TRIMMING COMPLETE\n",
      "Processed reads: 431702\n",
      "Reads with no constant regions: 77894\n",
      "Trimmed reads with uncalled base pairs: 10\n",
      "Trimmed reads with no errors: 353798\n",
      "% trimmed: 81.95421841918731\n",
      "\n",
      "MAPPING COMPLETE\n",
      "Reads mapped: 322680\n",
      "Reads unmapped: 31118\n",
      "% mapped: 91.2045856675278\n",
      "D112\n",
      "G102\n",
      "P116\n"
     ]
    }
   ],
   "source": [
    "def process_conditions():\n",
    "    libraries = CONDITION_INFO.groupby('library')\n",
    "    library_names = libraries.groups.keys()\n",
    "\n",
    "    library_settings = None\n",
    "    current_pool = None\n",
    "    library_counts = {}\n",
    "\n",
    "    for library in library_names:\n",
    "\n",
    "        current_library = libraries.get_group(library)\n",
    "\n",
    "        for counts in current_library.itertuples():\n",
    "\n",
    "            if library != library_settings:\n",
    "                library_counts[library] = pd.read_csv(cfg.OLIGO_DIR + library + '_info.csv').set_index('new_dna_seq')\n",
    "                library_settings = library\n",
    "                current_pool = import_pool_from_fasta(library + '.fasta', counts.upstream_constant, counts.downstream_constant)\n",
    "\n",
    "            trimmed_reads = trim_reads(library, counts.condition, 'R')\n",
    "            mapped_reads = pd.DataFrame.from_dict(map_reads(trimmed_reads, current_pool), orient='index', columns=[counts.condition])\n",
    "            library_counts[library][counts.condition] = mapped_reads\n",
    "\n",
    "    for library in library_counts.keys():\n",
    "        print(library)\n",
    "        library_counts[library].to_csv(cfg.OUT_DIR + library + '_mapped_counts.csv')\n",
    "\n",
    "\n",
    "\n",
    "\n",
    "\n",
    "\n",
    "process_conditions()"
   ],
   "metadata": {
    "collapsed": false,
    "pycharm": {
     "name": "#%%\n"
    }
   }
  },
  {
   "cell_type": "code",
   "execution_count": 5,
   "outputs": [
    {
     "name": "stdout",
     "output_type": "stream",
     "text": [
      "\n",
      "TRIMMING COMPLETE\n",
      "Processed reads: 360143\n",
      "Reads with no constant regions: 66055\n",
      "Trimmed reads with uncalled base pairs: 3562\n",
      "Trimmed reads with no errors: 290526\n",
      "% trimmed: 80.66962289979259\n",
      "\n",
      "MAPPING COMPLETE\n",
      "Reads mapped: 228238\n",
      "Reads unmapped: 62288\n",
      "% mapped: 78.56026655101437\n"
     ]
    }
   ],
   "source": [
    "map_reads(READ_COUNTS, LIBRARY)"
   ],
   "metadata": {
    "collapsed": false,
    "pycharm": {
     "name": "#%%\n"
    }
   }
  }
 ],
 "metadata": {
  "kernelspec": {
   "display_name": "Python 3",
   "language": "python",
   "name": "python3"
  },
  "language_info": {
   "codemirror_mode": {
    "name": "ipython",
    "version": 2
   },
   "file_extension": ".py",
   "mimetype": "text/x-python",
   "name": "python",
   "nbconvert_exporter": "python",
   "pygments_lexer": "ipython2",
   "version": "2.7.6"
  },
  "pycharm": {
   "stem_cell": {
    "cell_type": "raw",
    "source": [
     "\n"
    ],
    "metadata": {
     "collapsed": false
    }
   }
  }
 },
 "nbformat": 4,
 "nbformat_minor": 0
}