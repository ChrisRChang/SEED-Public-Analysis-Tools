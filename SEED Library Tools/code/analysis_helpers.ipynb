{
 "cells": [
  {
   "cell_type": "code",
   "execution_count": 6,
   "outputs": [],
   "source": [
    "import pandas as pd\n",
    "from Bio import SeqIO\n",
    "from Bio import Seq as SeqO\n",
    "from Bio import SeqRecord\n",
    "\n",
    "\n",
    "import cfg\n",
    "\n",
    "def load_top_codons(n): #Generate dictionary of top n codons for each AA\n",
    "    codon_file_path = cfg.DATA_DIR + cfg.CODON_FREQ_INPUT_FILE\n",
    "    all_codons_dt = pd.read_csv(codon_file_path) #Dataframe of codon frequencies\n",
    "\n",
    "    top_n_codons_dt = all_codons_dt.sort_values(by=['aa', 'freq'], ascending=[True, False]).groupby(['aa']).head(n)\n",
    "    top_n_codons_dt = top_n_codons_dt[['codon','aa']]\n",
    "\n",
    "    top_n_codons_dict = top_n_codons_dt.groupby('aa')['codon'].apply(list).to_dict()\n",
    "\n",
    "    return top_n_codons_dict,all_codons_dt\n",
    "\n",
    "TOP_N_CODONS, ALL_CODONS = load_top_codons(6)\n",
    "\n",
    "def nnn_fasta_gen(ref_dna, aa_i, library_name, upstream_constant, downstream_constant):\n",
    "    oligos = []\n",
    "    oligo_count= 0\n",
    "\n",
    "    fasta_path  = cfg.OLIGO_DIR + library_name + '.fasta'\n",
    "    template_fasta =  SeqIO.read(cfg.DATA_DIR + ref_dna, 'fasta')\n",
    "    dna_i = aa_i * 3\n",
    "\n",
    "    original_codon = template_fasta[dna_i:dna_i+3]\n",
    "    original_aa = original_codon.translate().seq\n",
    "\n",
    "    for aa in TOP_N_CODONS.keys():\n",
    "        for codon in TOP_N_CODONS[aa]:\n",
    "            new_dna_seq = template_fasta[:dna_i] + codon + template_fasta[dna_i + 3:]\n",
    "            oligo_seq = upstream_constant + new_dna_seq + downstream_constant\n",
    "            oligo_id = library_name + aa + '_OLIGO' + str(oligo_count)\n",
    "\n",
    "            oligo_info = {\n",
    "                'id' : oligo_id,\n",
    "                'position' : aa_i,\n",
    "                'original_aa': original_aa,\n",
    "                'new_aa' : aa,\n",
    "                'new_codon' : codon,\n",
    "                'new_dna_seq': str(new_dna_seq.seq),\n",
    "                'oligo_seq' : str(oligo_seq.seq)\n",
    "            }\n",
    "\n",
    "            oligos += [oligo_info]\n",
    "            oligo_count += 1\n",
    "\n",
    "    oligo_df = pd.DataFrame(oligos)\n",
    "    oligo_df.to_csv(cfg.OLIGO_DIR + library_name + '_info.csv')\n",
    "\n",
    "\n",
    "    with open(fasta_path, 'w') as output_handle:\n",
    "        for oligo in oligo_df.itertuples():\n",
    "            record = SeqRecord.SeqRecord(\n",
    "                SeqO.Seq(oligo.oligo_seq),\n",
    "                id=oligo.id,\n",
    "                description= '')\n",
    "\n",
    "            SeqIO.write(record, output_handle, \"fasta\")\n",
    "\n",
    "    return\n",
    "\n",
    "nnn_fasta_gen('trbc_t3_library_template.fasta', 1, 'G102','GAAGGAACTTTTGCGTGTTAGTATGTTGACTACATGCTCTGGTACAATACATACGTGTTCCGGCTGTTATCCTGCATCGGAACCTCAATCATGCATGAAGGCTCGCCAGGTCTCACCAGTTT','ATTCAGAGACCAACGCCAGGG')\n",
    "\n",
    "nnn_fasta_gen('trbc_t3_library_template.fasta', 11, 'D112','TGAAGGCTCGCCAGGTCTCACCAGTTT','ATTCAGAGACCAACGCCAGGG')\n",
    "\n",
    "nnn_fasta_gen('trbc_t3_library_template.fasta', 15, 'P116','TACATGCTCTGGTACAATACATACGTGTTCCGGCTGTTATCCTGCATCGGAACCTCAATCATGCATGAAGGCTCGCCAGGTCTCACCAGTTT','ATTCAGAGACCAACGCCAGGGTAC')\n"
   ],
   "metadata": {
    "collapsed": false,
    "pycharm": {
     "name": "#%%\n"
    }
   }
  },
  {
   "cell_type": "code",
   "execution_count": 13,
   "outputs": [],
   "source": [],
   "metadata": {
    "collapsed": false,
    "pycharm": {
     "name": "#%%\n"
    }
   }
  },
  {
   "cell_type": "code",
   "execution_count": null,
   "outputs": [],
   "source": [],
   "metadata": {
    "collapsed": false,
    "pycharm": {
     "name": "#%%\n"
    }
   }
  },
  {
   "cell_type": "code",
   "execution_count": null,
   "outputs": [],
   "source": [],
   "metadata": {
    "collapsed": false,
    "pycharm": {
     "name": "#%%\n"
    }
   }
  }
 ],
 "metadata": {
  "kernelspec": {
   "display_name": "Python 3",
   "language": "python",
   "name": "python3"
  },
  "language_info": {
   "codemirror_mode": {
    "name": "ipython",
    "version": 2
   },
   "file_extension": ".py",
   "mimetype": "text/x-python",
   "name": "python",
   "nbconvert_exporter": "python",
   "pygments_lexer": "ipython2",
   "version": "2.7.6"
  }
 },
 "nbformat": 4,
 "nbformat_minor": 0
}